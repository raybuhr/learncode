{
 "cells": [
  {
   "cell_type": "code",
   "execution_count": 1,
   "metadata": {
    "collapsed": false
   },
   "outputs": [
    {
     "name": "stdout",
     "output_type": "stream",
     "text": [
      "Starting from exerise 16 of Learn Ruby the Hard Way\n"
     ]
    }
   ],
   "source": [
    "puts \"Starting from exerise 16 of Learn Ruby the Hard Way\""
   ]
  },
  {
   "cell_type": "markdown",
   "metadata": {
    "collapsed": false
   },
   "source": [
    "## Exercise 16: Reading and Writing Files\n",
    "\n",
    "- `close` -- Closes the file. Like File->Save.. in your editor.\n",
    "- `read` -- Reads the contents of the file. You can assign the result to a variable.\n",
    "- `readline` -- Reads just one line of a text file.\n",
    "- `truncate` -- Empties the file. Watch out if you care about the file.\n",
    "- `write('stuff')` -- Writes \"stuff\" to the file."
   ]
  },
  {
   "cell_type": "code",
   "execution_count": 84,
   "metadata": {
    "collapsed": false,
    "scrolled": false
   },
   "outputs": [
    {
     "name": "stdout",
     "output_type": "stream",
     "text": [
      "The Zen of Python, by Tim Peters\n",
      "\n",
      "Beautiful is better than ugly.\n",
      "Explicit is better than implicit.\n",
      "Simple is better than complex.\n",
      "Complex is better than complicated.\n",
      "Flat is better than nested.\n",
      "Sparse is better than dense.\n",
      "Readability counts.\n",
      "Special cases aren't special enough to break the rules.\n",
      "Although practicality beats purity.\n",
      "Errors should never pass silently.\n",
      "Unless explicitly silenced.\n",
      "In the face of ambiguity, refuse the temptation to guess.\n",
      "There should be one-- and preferably only one --obvious way to do it.\n",
      "Although that way may not be obvious at first unless you're Dutch.\n",
      "Now is better than never.\n",
      "Although never is often better than *right* now.\n",
      "If the implementation is hard to explain, it's a bad idea.\n",
      "If the implementation is easy to explain, it may be a good idea.\n",
      "Namespaces are one honking great idea -- let's do more of those!\n",
      "\n"
     ]
    }
   ],
   "source": [
    "filename = 'zen_of_python.txt'\n",
    "txt = open(filename, 'r')\n",
    "puts txt.read"
   ]
  },
  {
   "cell_type": "code",
   "execution_count": 125,
   "metadata": {
    "collapsed": false
   },
   "outputs": [
    {
     "name": "stdout",
     "output_type": "stream",
     "text": [
      "Quote of the day: Flat is better than nested.\n",
      "\n"
     ]
    }
   ],
   "source": [
    "txt = open('zen_of_python.txt')\n",
    "lines = txt.readlines\n",
    "puts \"Quote of the day: #{lines.sample}\""
   ]
  },
  {
   "cell_type": "code",
   "execution_count": 153,
   "metadata": {
    "collapsed": false
   },
   "outputs": [
    {
     "data": {
      "text/plain": [
       "The Zen of Ruby\n",
       "Beautiful is better than ugly.\n",
       "Explicit is better than implicit.\n",
       "Simple is better than complex.\n",
       "Complex is better than complicated.\n",
       "Flat is better than nested.\n",
       "Sparse is better than dense.\n",
       "Readability counts.\n",
       "Special cases aren't special enough to break the rules.\n",
       "Although practicality beats purity.\n",
       "Errors should never pass silently.\n",
       "Unless explicitly silenced.\n",
       "In the face of ambiguity, refuse the temptation to guess.\n",
       "There should be one-- and preferably only one --obvious way to do it.\n",
       "Although that way may not be obvious at first unless you're Dutch.\n",
       "Now is better than never.\n",
       "Although never is often better than *right* now.\n",
       "If the implementation is hard to explain, it's a bad idea.\n",
       "If the implementation is easy to explain, it may be a good idea.\n",
       "Namespaces are one honking great idea -- let's do more of those!\n"
      ]
     },
     "execution_count": 153,
     "metadata": {},
     "output_type": "execute_result"
    }
   ],
   "source": [
    "txt = open('zen_of_python.txt')\n",
    "lines = txt.readlines\n",
    "new_line = Array(\"The Zen of Ruby\")\n",
    "new_txt = new_line + lines[1..-1]\n",
    "out = open('zen_of_ruby.txt', 'w')\n",
    "for i in new_txt\n",
    "  out.write(i)\n",
    "end\n",
    "out.close\n",
    "view = open('zen_of_ruby.txt')\n",
    "view"
   ]
  },
  {
   "cell_type": "markdown",
   "metadata": {},
   "source": [
    "## Exercise 18: Names, Variables, Code, Functions"
   ]
  },
  {
   "cell_type": "code",
   "execution_count": 181,
   "metadata": {
    "collapsed": false
   },
   "outputs": [
    {
     "data": {
      "text/plain": [
       "[\"The Zen of Ruby\\n\", \"Although practicality beats purity.\\n\", \"Errors should never pass silently.\\n\", \"Explicit is better than implicit.\\n\", \"Namespaces are one honking great idea -- let's do more of those!\\n\", \"Although that way may not be obvious at first unless you're Dutch.\\n\", \"If the implementation is hard to explain, it's a bad idea.\\n\", \"Simple is better than complex.\\n\", \"Complex is better than complicated.\\n\", \"Now is better than never.\\n\", \"If the implementation is easy to explain, it may be a good idea.\\n\", \"Beautiful is better than ugly.\\n\", \"Flat is better than nested.\\n\", \"Readability counts.\\n\", \"Unless explicitly silenced.\\n\", \"Although never is often better than *right* now.\\n\", \"Special cases aren't special enough to break the rules.\\n\", \"In the face of ambiguity, refuse the temptation to guess.\\n\", \"There should be one-- and preferably only one --obvious way to do it.\\n\", \"Sparse is better than dense.\\n\"]"
      ]
     },
     "execution_count": 181,
     "metadata": {},
     "output_type": "execute_result"
    }
   ],
   "source": [
    "def shuffle_file_lines(file_in)\n",
    "  txt = open(file_in, 'r')\n",
    "  lines = txt.readlines\n",
    "  line1 = lines.at(0)\n",
    "  new_lines = [line1] + lines[1..lines.size].shuffle \n",
    "end\n",
    "\n",
    "shuffle_file_lines('zen_of_ruby.txt')"
   ]
  },
  {
   "cell_type": "code",
   "execution_count": 183,
   "metadata": {
    "collapsed": false
   },
   "outputs": [
    {
     "name": "stdout",
     "output_type": "stream",
     "text": [
      "First let's print the whole file:\n",
      "\n",
      "The Zen of Ruby\n",
      "Beautiful is better than ugly.\n",
      "Explicit is better than implicit.\n",
      "Simple is better than complex.\n",
      "Complex is better than complicated.\n",
      "Flat is better than nested.\n",
      "Sparse is better than dense.\n",
      "Readability counts.\n",
      "Special cases aren't special enough to break the rules.\n",
      "Although practicality beats purity.\n",
      "Errors should never pass silently.\n",
      "Unless explicitly silenced.\n",
      "In the face of ambiguity, refuse the temptation to guess.\n",
      "There should be one-- and preferably only one --obvious way to do it.\n",
      "Although that way may not be obvious at first unless you're Dutch.\n",
      "Now is better than never.\n",
      "Although never is often better than *right* now.\n",
      "If the implementation is hard to explain, it's a bad idea.\n",
      "If the implementation is easy to explain, it may be a good idea.\n",
      "Namespaces are one honking great idea -- let's do more of those!\n",
      "\n",
      "Now let's rewind, kind of like a tape.\n",
      "Let's print three lines:\n",
      "1, The Zen of Ruby\n",
      "2, Beautiful is better than ugly.\n",
      "3, Explicit is better than implicit.\n"
     ]
    }
   ],
   "source": [
    "def print_all(f)\n",
    "  puts f.read\n",
    "end\n",
    "\n",
    "def rewind(f)\n",
    "  f.seek(0)\n",
    "end\n",
    "\n",
    "def print_a_line(line_count, f)\n",
    "  puts \"#{line_count}, #{f.gets.chomp}\"\n",
    "end\n",
    "\n",
    "current_file = open('zen_of_ruby.txt')\n",
    "\n",
    "puts \"First let's print the whole file:\\n\"\n",
    "\n",
    "print_all(current_file)\n",
    "\n",
    "puts \"Now let's rewind, kind of like a tape.\"\n",
    "\n",
    "rewind(current_file)\n",
    "\n",
    "puts \"Let's print three lines:\"\n",
    "\n",
    "current_line = 1\n",
    "print_a_line(current_line, current_file)\n",
    "\n",
    "current_line = current_line + 1\n",
    "print_a_line(current_line, current_file)\n",
    "\n",
    "current_line = current_line + 1\n",
    "print_a_line(current_line, current_file)"
   ]
  },
  {
   "cell_type": "code",
   "execution_count": 189,
   "metadata": {
    "collapsed": false
   },
   "outputs": [
    {
     "name": "stdout",
     "output_type": "stream",
     "text": [
      "Total Words: 141\n",
      "Unique Words: 93\n"
     ]
    }
   ],
   "source": [
    "def get_words(in_file)\n",
    "  txt = open(in_file)\n",
    "  words = txt.read.split(' ')\n",
    "  return words\n",
    "end\n",
    "\n",
    "words = get_words('zen_of_ruby.txt')\n",
    "puts \"Total Words: #{words.size}\"\n",
    "puts \"Unique Words: #{words.uniq.size}\""
   ]
  },
  {
   "cell_type": "markdown",
   "metadata": {},
   "source": [
    "## Exercise 27: Memorizing Logic\n",
    "- `&&` (and)\n",
    "- `||` (or)\n",
    "- `!` (not)\n",
    "- `!=` (not equal)\n",
    "- `==` (equal)\n",
    "- `>=` (greater-than-equal)\n",
    "- `<=` (less-than-equal)\n",
    "- `true`\n",
    "- `false`"
   ]
  },
  {
   "cell_type": "code",
   "execution_count": 194,
   "metadata": {
    "collapsed": false
   },
   "outputs": [
    {
     "name": "stdout",
     "output_type": "stream",
     "text": [
      "We should take the cars.\n",
      "We should take the trucks.\n",
      "We can't decide.\n"
     ]
    }
   ],
   "source": [
    "def take_trucks(people, cars, trucks)\n",
    "  if cars > people && cars >= trucks\n",
    "    puts \"We should take the cars.\"\n",
    "  elsif trucks > cars && trucks >= people\n",
    "    puts \"We should take the trucks.\"\n",
    "  else\n",
    "    puts \"We can't decide.\"\n",
    "  end\n",
    "end\n",
    "\n",
    "take_trucks(people = 30, cars = 40, trucks = 15)\n",
    "take_trucks(people = 10, cars = 1, trucks = 15)\n",
    "take_trucks(people = 30, cars = 1, trucks = 15)"
   ]
  },
  {
   "cell_type": "code",
   "execution_count": null,
   "metadata": {
    "collapsed": true
   },
   "outputs": [],
   "source": []
  }
 ],
 "metadata": {
  "kernelspec": {
   "display_name": "Ruby 2.3.1",
   "language": "ruby",
   "name": "ruby"
  },
  "language_info": {
   "file_extension": ".rb",
   "mimetype": "application/x-ruby",
   "name": "ruby",
   "version": "2.3.1"
  }
 },
 "nbformat": 4,
 "nbformat_minor": 0
}
