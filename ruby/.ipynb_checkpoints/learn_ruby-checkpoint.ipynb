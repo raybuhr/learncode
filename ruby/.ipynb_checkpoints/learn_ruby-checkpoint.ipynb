{
 "cells": [
  {
   "cell_type": "code",
   "execution_count": 1,
   "metadata": {
    "collapsed": false
   },
   "outputs": [
    {
     "name": "stdout",
     "output_type": "stream",
     "text": [
      "Starting from exerise 16 of Learn Ruby the Hard Way\n"
     ]
    }
   ],
   "source": [
    "puts \"Starting from exerise 16 of Learn Ruby the Hard Way\""
   ]
  },
  {
   "cell_type": "markdown",
   "metadata": {
    "collapsed": false
   },
   "source": [
    "## Exercise 16: Reading and Writing Files\n",
    "\n",
    "- `close` -- Closes the file. Like File->Save.. in your editor.\n",
    "- `read` -- Reads the contents of the file. You can assign the result to a variable.\n",
    "- `readline` -- Reads just one line of a text file.\n",
    "- `truncate` -- Empties the file. Watch out if you care about the file.\n",
    "- `write('stuff')` -- Writes \"stuff\" to the file."
   ]
  },
  {
   "cell_type": "code",
   "execution_count": 84,
   "metadata": {
    "collapsed": false,
    "scrolled": false
   },
   "outputs": [
    {
     "name": "stdout",
     "output_type": "stream",
     "text": [
      "The Zen of Python, by Tim Peters\n",
      "\n",
      "Beautiful is better than ugly.\n",
      "Explicit is better than implicit.\n",
      "Simple is better than complex.\n",
      "Complex is better than complicated.\n",
      "Flat is better than nested.\n",
      "Sparse is better than dense.\n",
      "Readability counts.\n",
      "Special cases aren't special enough to break the rules.\n",
      "Although practicality beats purity.\n",
      "Errors should never pass silently.\n",
      "Unless explicitly silenced.\n",
      "In the face of ambiguity, refuse the temptation to guess.\n",
      "There should be one-- and preferably only one --obvious way to do it.\n",
      "Although that way may not be obvious at first unless you're Dutch.\n",
      "Now is better than never.\n",
      "Although never is often better than *right* now.\n",
      "If the implementation is hard to explain, it's a bad idea.\n",
      "If the implementation is easy to explain, it may be a good idea.\n",
      "Namespaces are one honking great idea -- let's do more of those!\n",
      "\n"
     ]
    }
   ],
   "source": [
    "filename = 'zen_of_python.txt'\n",
    "txt = open(filename, 'r')\n",
    "puts txt.read"
   ]
  },
  {
   "cell_type": "code",
   "execution_count": 125,
   "metadata": {
    "collapsed": false
   },
   "outputs": [
    {
     "name": "stdout",
     "output_type": "stream",
     "text": [
      "Quote of the day: Flat is better than nested.\n",
      "\n"
     ]
    }
   ],
   "source": [
    "txt = open('zen_of_python.txt')\n",
    "lines = txt.readlines\n",
    "puts \"Quote of the day: #{lines.sample}\""
   ]
  },
  {
   "cell_type": "code",
   "execution_count": 153,
   "metadata": {
    "collapsed": false
   },
   "outputs": [
    {
     "data": {
      "text/plain": [
       "The Zen of Ruby\n",
       "Beautiful is better than ugly.\n",
       "Explicit is better than implicit.\n",
       "Simple is better than complex.\n",
       "Complex is better than complicated.\n",
       "Flat is better than nested.\n",
       "Sparse is better than dense.\n",
       "Readability counts.\n",
       "Special cases aren't special enough to break the rules.\n",
       "Although practicality beats purity.\n",
       "Errors should never pass silently.\n",
       "Unless explicitly silenced.\n",
       "In the face of ambiguity, refuse the temptation to guess.\n",
       "There should be one-- and preferably only one --obvious way to do it.\n",
       "Although that way may not be obvious at first unless you're Dutch.\n",
       "Now is better than never.\n",
       "Although never is often better than *right* now.\n",
       "If the implementation is hard to explain, it's a bad idea.\n",
       "If the implementation is easy to explain, it may be a good idea.\n",
       "Namespaces are one honking great idea -- let's do more of those!\n"
      ]
     },
     "execution_count": 153,
     "metadata": {},
     "output_type": "execute_result"
    }
   ],
   "source": [
    "txt = open('zen_of_python.txt')\n",
    "lines = txt.readlines\n",
    "new_line = Array(\"The Zen of Ruby\")\n",
    "new_txt = new_line + lines[1..-1]\n",
    "out = open('zen_of_ruby.txt', 'w')\n",
    "for i in new_txt\n",
    "  out.write(i)\n",
    "end\n",
    "out.close\n",
    "view = open('zen_of_ruby.txt')\n",
    "view"
   ]
  },
  {
   "cell_type": "markdown",
   "metadata": {},
   "source": [
    "## Exercise 18: Names, Variables, Code, Functions"
   ]
  },
  {
   "cell_type": "code",
   "execution_count": 181,
   "metadata": {
    "collapsed": false
   },
   "outputs": [
    {
     "data": {
      "text/plain": [
       "[\"The Zen of Ruby\\n\", \"Although practicality beats purity.\\n\", \"Errors should never pass silently.\\n\", \"Explicit is better than implicit.\\n\", \"Namespaces are one honking great idea -- let's do more of those!\\n\", \"Although that way may not be obvious at first unless you're Dutch.\\n\", \"If the implementation is hard to explain, it's a bad idea.\\n\", \"Simple is better than complex.\\n\", \"Complex is better than complicated.\\n\", \"Now is better than never.\\n\", \"If the implementation is easy to explain, it may be a good idea.\\n\", \"Beautiful is better than ugly.\\n\", \"Flat is better than nested.\\n\", \"Readability counts.\\n\", \"Unless explicitly silenced.\\n\", \"Although never is often better than *right* now.\\n\", \"Special cases aren't special enough to break the rules.\\n\", \"In the face of ambiguity, refuse the temptation to guess.\\n\", \"There should be one-- and preferably only one --obvious way to do it.\\n\", \"Sparse is better than dense.\\n\"]"
      ]
     },
     "execution_count": 181,
     "metadata": {},
     "output_type": "execute_result"
    }
   ],
   "source": [
    "def shuffle_file_lines(file_in)\n",
    "  txt = open(file_in, 'r')\n",
    "  lines = txt.readlines\n",
    "  line1 = lines.at(0)\n",
    "  new_lines = [line1] + lines[1..lines.size].shuffle \n",
    "end\n",
    "\n",
    "shuffle_file_lines('zen_of_ruby.txt')"
   ]
  },
  {
   "cell_type": "code",
   "execution_count": 183,
   "metadata": {
    "collapsed": false
   },
   "outputs": [
    {
     "name": "stdout",
     "output_type": "stream",
     "text": [
      "First let's print the whole file:\n",
      "\n",
      "The Zen of Ruby\n",
      "Beautiful is better than ugly.\n",
      "Explicit is better than implicit.\n",
      "Simple is better than complex.\n",
      "Complex is better than complicated.\n",
      "Flat is better than nested.\n",
      "Sparse is better than dense.\n",
      "Readability counts.\n",
      "Special cases aren't special enough to break the rules.\n",
      "Although practicality beats purity.\n",
      "Errors should never pass silently.\n",
      "Unless explicitly silenced.\n",
      "In the face of ambiguity, refuse the temptation to guess.\n",
      "There should be one-- and preferably only one --obvious way to do it.\n",
      "Although that way may not be obvious at first unless you're Dutch.\n",
      "Now is better than never.\n",
      "Although never is often better than *right* now.\n",
      "If the implementation is hard to explain, it's a bad idea.\n",
      "If the implementation is easy to explain, it may be a good idea.\n",
      "Namespaces are one honking great idea -- let's do more of those!\n",
      "\n",
      "Now let's rewind, kind of like a tape.\n",
      "Let's print three lines:\n",
      "1, The Zen of Ruby\n",
      "2, Beautiful is better than ugly.\n",
      "3, Explicit is better than implicit.\n"
     ]
    }
   ],
   "source": [
    "def print_all(f)\n",
    "  puts f.read\n",
    "end\n",
    "\n",
    "def rewind(f)\n",
    "  f.seek(0)\n",
    "end\n",
    "\n",
    "def print_a_line(line_count, f)\n",
    "  puts \"#{line_count}, #{f.gets.chomp}\"\n",
    "end\n",
    "\n",
    "current_file = open('zen_of_ruby.txt')\n",
    "\n",
    "puts \"First let's print the whole file:\\n\"\n",
    "\n",
    "print_all(current_file)\n",
    "\n",
    "puts \"Now let's rewind, kind of like a tape.\"\n",
    "\n",
    "rewind(current_file)\n",
    "\n",
    "puts \"Let's print three lines:\"\n",
    "\n",
    "current_line = 1\n",
    "print_a_line(current_line, current_file)\n",
    "\n",
    "current_line = current_line + 1\n",
    "print_a_line(current_line, current_file)\n",
    "\n",
    "current_line = current_line + 1\n",
    "print_a_line(current_line, current_file)"
   ]
  },
  {
   "cell_type": "code",
   "execution_count": 189,
   "metadata": {
    "collapsed": false
   },
   "outputs": [
    {
     "name": "stdout",
     "output_type": "stream",
     "text": [
      "Total Words: 141\n",
      "Unique Words: 93\n"
     ]
    }
   ],
   "source": [
    "def get_words(in_file)\n",
    "  txt = open(in_file)\n",
    "  words = txt.read.split(' ')\n",
    "  return words\n",
    "end\n",
    "\n",
    "words = get_words('zen_of_ruby.txt')\n",
    "puts \"Total Words: #{words.size}\"\n",
    "puts \"Unique Words: #{words.uniq.size}\""
   ]
  },
  {
   "cell_type": "markdown",
   "metadata": {},
   "source": [
    "## Exercise 27: Memorizing Logic\n",
    "- `&&` (and)\n",
    "- `||` (or)\n",
    "- `!` (not)\n",
    "- `!=` (not equal)\n",
    "- `==` (equal)\n",
    "- `>=` (greater-than-equal)\n",
    "- `<=` (less-than-equal)\n",
    "- `true`\n",
    "- `false`"
   ]
  },
  {
   "cell_type": "code",
   "execution_count": 194,
   "metadata": {
    "collapsed": false
   },
   "outputs": [
    {
     "name": "stdout",
     "output_type": "stream",
     "text": [
      "We should take the cars.\n",
      "We should take the trucks.\n",
      "We can't decide.\n"
     ]
    }
   ],
   "source": [
    "def take_trucks(people, cars, trucks)\n",
    "  if cars > people && cars >= trucks\n",
    "    puts \"We should take the cars.\"\n",
    "  elsif trucks > cars && trucks >= people\n",
    "    puts \"We should take the trucks.\"\n",
    "  else\n",
    "    puts \"We can't decide.\"\n",
    "  end\n",
    "end\n",
    "\n",
    "take_trucks(people = 30, cars = 40, trucks = 15)\n",
    "take_trucks(people = 10, cars = 1, trucks = 15)\n",
    "take_trucks(people = 30, cars = 1, trucks = 15)"
   ]
  },
  {
   "cell_type": "markdown",
   "metadata": {
    "collapsed": true
   },
   "source": [
    "## Exercise 32: Loops and Arrays"
   ]
  },
  {
   "cell_type": "code",
   "execution_count": 1,
   "metadata": {
    "collapsed": false
   },
   "outputs": [
    {
     "name": "stdout",
     "output_type": "stream",
     "text": [
      "This is count 1\n",
      "This is count 2\n",
      "This is count 3\n",
      "This is count 4\n",
      "This is count 5\n"
     ]
    },
    {
     "data": {
      "text/plain": [
       "[1, 2, 3, 4, 5]"
      ]
     },
     "execution_count": 1,
     "metadata": {},
     "output_type": "execute_result"
    }
   ],
   "source": [
    "the_count = [1, 2, 3, 4, 5]\n",
    "fruits = ['apples', 'oranges', 'pears', 'apricots']\n",
    "change = [1, 'pennies', 2, 'dimes', 3, 'quarters']\n",
    "\n",
    "# this first kind of for-loop goes through a list\n",
    "# in a more traditional style found in other languages\n",
    "for number in the_count\n",
    "  puts \"This is count #{number}\"\n",
    "end"
   ]
  },
  {
   "cell_type": "code",
   "execution_count": 2,
   "metadata": {
    "collapsed": false
   },
   "outputs": [
    {
     "name": "stdout",
     "output_type": "stream",
     "text": [
      "A fruit of type: apples\n",
      "A fruit of type: oranges\n",
      "A fruit of type: pears\n",
      "A fruit of type: apricots\n"
     ]
    },
    {
     "data": {
      "text/plain": [
       "[\"apples\", \"oranges\", \"pears\", \"apricots\"]"
      ]
     },
     "execution_count": 2,
     "metadata": {},
     "output_type": "execute_result"
    }
   ],
   "source": [
    "# same as above, but in a more Ruby style\n",
    "# this and the next one are the preferred \n",
    "# way Ruby for-loops are written\n",
    "fruits.each do |fruit|\n",
    "  puts \"A fruit of type: #{fruit}\"\n",
    "end"
   ]
  },
  {
   "cell_type": "code",
   "execution_count": 3,
   "metadata": {
    "collapsed": false
   },
   "outputs": [
    {
     "name": "stdout",
     "output_type": "stream",
     "text": [
      "I got 1\n",
      "I got pennies\n",
      "I got 2\n",
      "I got dimes\n",
      "I got 3\n",
      "I got quarters\n"
     ]
    },
    {
     "data": {
      "text/plain": [
       "[1, \"pennies\", 2, \"dimes\", 3, \"quarters\"]"
      ]
     },
     "execution_count": 3,
     "metadata": {},
     "output_type": "execute_result"
    }
   ],
   "source": [
    "# also we can go through mixed lists too\n",
    "# note this is yet another style, exactly like above\n",
    "# but a different syntax (way to write it).\n",
    "change.each {|i| puts \"I got #{i}\" }"
   ]
  },
  {
   "cell_type": "code",
   "execution_count": 4,
   "metadata": {
    "collapsed": false
   },
   "outputs": [
    {
     "name": "stdout",
     "output_type": "stream",
     "text": [
      "adding 0 to the list.\n",
      "adding 1 to the list.\n",
      "adding 2 to the list.\n",
      "adding 3 to the list.\n",
      "adding 4 to the list.\n",
      "adding 5 to the list.\n"
     ]
    },
    {
     "data": {
      "text/plain": [
       "0..5"
      ]
     },
     "execution_count": 4,
     "metadata": {},
     "output_type": "execute_result"
    }
   ],
   "source": [
    "# we can also build lists, first start with an empty one\n",
    "elements = []\n",
    "\n",
    "# then use the range operator to do 0 to 5 counts\n",
    "(0..5).each do |i|\n",
    "  puts \"adding #{i} to the list.\"\n",
    "  # pushes the i variable on the *end* of the list\n",
    "  elements.push(i)\n",
    "end"
   ]
  },
  {
   "cell_type": "code",
   "execution_count": 12,
   "metadata": {
    "collapsed": false
   },
   "outputs": [
    {
     "name": "stdout",
     "output_type": "stream",
     "text": [
      "Element was: 0\n",
      "Element was: 1\n",
      "Element was: 2\n",
      "Element was: 3\n",
      "Element was: 4\n",
      "Element was: 5\n"
     ]
    },
    {
     "data": {
      "text/plain": [
       "0..5"
      ]
     },
     "execution_count": 12,
     "metadata": {},
     "output_type": "execute_result"
    }
   ],
   "source": [
    "# now we can print them out too\n",
    "# elements.each {|i| puts \"Element was: #{i}\" }\n",
    "(0..5).each {|i| puts \"Element was: #{i}\" }"
   ]
  },
  {
   "cell_type": "code",
   "execution_count": 30,
   "metadata": {
    "collapsed": false
   },
   "outputs": [
    {
     "name": "stdout",
     "output_type": "stream",
     "text": [
      "[\"0, true\", \"1, false\", \"2, true\", \"3, false\", \"4, true\", \"5, false\", \"6, true\", \"7, false\", \"8, true\", \"9, false\", \"10, true\"]\n",
      "[\"0, false\", \"1, true\", \"2, false\", \"3, true\", \"4, false\", \"5, true\", \"6, false\", \"7, true\", \"8, false\", \"9, true\", \"10, false\"]\n"
     ]
    }
   ],
   "source": [
    "# do list comprehensions work?\n",
    "def is_even(x)\n",
    "  x % 2 == 0\n",
    "end\n",
    "\n",
    "# (0..10).each {|i| puts \"#{i}, #{is_even(i)}\" }\n",
    "evens = []\n",
    "(0..10).each {|i| evens.push(\"#{i}, #{is_even(i)}\") }\n",
    "puts evens\n",
    "odds = []\n",
    "(0..10).each {|i| odds << \"#{i}, #{!is_even(i)}\" }\n",
    "puts odds"
   ]
  },
  {
   "cell_type": "markdown",
   "metadata": {},
   "source": [
    "## Exercise 34: Accessing Elements of Arrays"
   ]
  },
  {
   "cell_type": "code",
   "execution_count": 35,
   "metadata": {
    "collapsed": false
   },
   "outputs": [
    {
     "name": "stdout",
     "output_type": "stream",
     "text": [
      "1, true\n",
      "2, false\n"
     ]
    }
   ],
   "source": [
    "puts odds[1]\n",
    "puts odds[2]"
   ]
  },
  {
   "cell_type": "markdown",
   "metadata": {},
   "source": [
    "## Exercise 35: Branches and Functions"
   ]
  },
  {
   "cell_type": "code",
   "execution_count": 135,
   "metadata": {
    "collapsed": false
   },
   "outputs": [
    {
     "data": {
      "text/plain": [
       ":dead"
      ]
     },
     "execution_count": 135,
     "metadata": {},
     "output_type": "execute_result"
    }
   ],
   "source": [
    "def dead(why)\n",
    "  puts why, \"Good job!\"\n",
    "#   exit(0)\n",
    "end"
   ]
  },
  {
   "cell_type": "code",
   "execution_count": 143,
   "metadata": {
    "collapsed": false
   },
   "outputs": [
    {
     "name": "stdout",
     "output_type": "stream",
     "text": [
      "[10, 10, 10]\n"
     ]
    }
   ],
   "source": [
    "a = '10 bucks'\n",
    "b = '$10'\n",
    "c = 10\n",
    "def to_num(x)\n",
    "  x.to_s.\n",
    "    split('').\n",
    "    map{|x| x[/\\d/,0]}.\n",
    "    select{|x| !x.nil?}.\n",
    "    join('').\n",
    "    to_i\n",
    "end\n",
    "\n",
    "puts [a,b, c].map{|x| to_num(x)}"
   ]
  },
  {
   "cell_type": "code",
   "execution_count": 144,
   "metadata": {
    "collapsed": false
   },
   "outputs": [
    {
     "name": "stdout",
     "output_type": "stream",
     "text": [
      "This room is full of gold.  How much do you take?\n",
      "You entered '70', which was interpreted as...\n",
      "70\n",
      "\n",
      "This room is full of gold.  How much do you take?\n",
      "You entered '25', which was interpreted as...\n",
      "25\n",
      "Nice, you're not greedy, you win!\n",
      "\n",
      "This room is full of gold.  How much do you take?\n",
      "You entered '10 bucks', which was interpreted as...\n",
      "10\n",
      "Nice, you're not greedy, you win!\n",
      "\n",
      "This room is full of gold.  How much do you take?\n",
      "You entered '$35', which was interpreted as...\n",
      "35\n",
      "Nice, you're not greedy, you win!\n",
      "\n"
     ]
    }
   ],
   "source": [
    "def gold_room(choice)\n",
    "  puts \"This room is full of gold.  How much do you take?\"\n",
    "  print \"You entered '#{choice}'\"\n",
    "  puts \", which was interpreted as...\"\n",
    "#   choice = $stdin.gets.chomp\n",
    "  \n",
    "  # this line has a bug, so fix it\n",
    "  # ... formerly had a bug\n",
    "#   if choice.to_s.include?(\"0\") || choice.to_s.include?(\"1\")\n",
    "  if choice.to_s[/\\d/]\n",
    "#     how_much = choice.to_i\n",
    "    how_much = to_num(choice)\n",
    "    puts how_much\n",
    "  else\n",
    "    puts \"Man, learn to type a number...\"\n",
    "  end\n",
    "\n",
    "#   if how_much < 50\n",
    "  if choice.to_i < 50\n",
    "    puts \"Nice, you're not greedy, you win!\"\n",
    "# #     exit(0)\n",
    "#   else\n",
    "#     dead(\"You greedy bastard!\")\n",
    "  end\n",
    "end\n",
    "\n",
    "puts gold_room(70)\n",
    "puts gold_room(25)\n",
    "puts gold_room(\"10 bucks\")\n",
    "puts gold_room(\"$35\")"
   ]
  },
  {
   "cell_type": "markdown",
   "metadata": {},
   "source": [
    "## Exercise 36: Designing and Debugging"
   ]
  },
  {
   "cell_type": "markdown",
   "metadata": {},
   "source": [
    "### Rules for If-Statements\n",
    "\n",
    "1. Every if-statement must have an else.\n",
    "2. If this else should never run because it doesn't make sense, then you must use a die function in the else that prints out an error message and dies, just like we did in the last exercise. This will find many errors.\n",
    "3. Never nest if-statements more than two deep and always try to do them one deep.\n",
    "4. Treat if-statements like paragraphs, where each if-elsif-else grouping is like a set of sentences. Put blank lines before and after.\n",
    "5. Your boolean tests should be simple. If they are complex, move their calculations to variables earlier in your function and use a good name for the variable."
   ]
  },
  {
   "cell_type": "markdown",
   "metadata": {},
   "source": [
    "### Rules for Loops\n",
    "\n",
    "1. Use a while-loop only to loop forever, and that means probably never. This only applies to Ruby; other languages are different.\n",
    "2. Use a for-loop for all other kinds of looping, especially if there is a fixed or limited number of things to loop over."
   ]
  },
  {
   "cell_type": "markdown",
   "metadata": {},
   "source": [
    "### Tips for Debugging\n",
    "\n",
    "1. Do not use a \"debugger.\" A debugger is like doing a full-body scan on a sick person. You do not get any specific useful information, and you find a whole lot of information that doesn't help and is just confusing.\n",
    "2. The best way to debug a program is to use put to print out the values of variables at points in the program to see where they go wrong.\n",
    "3. Make sure parts of your programs work as you work on them. Do not write massive files of code before you try to run them. Code a little, run a little, fix a little."
   ]
  },
  {
   "cell_type": "markdown",
   "metadata": {},
   "source": [
    "## Exercise 37: Symbol Review\n",
    "\n",
    "### Keywords\n",
    "\n",
    "|**Keyword**|\tDescription\t|Example|\n",
    "|---|---|---|\n",
    "|`BEGIN`|`\tRun this block when the script starts.`|`BEGIN { puts \"hi\" }`|\n",
    "|`END`|`\tRun this block when the script is done.\t`|`END { puts \"hi\" }`|\n",
    "|`alias`|`\tCreate another name for a function.\t`|`alias X Y`|\n",
    "|`and`|`\tLogical and, but lower priority than &&.\t`|`puts \"Hello\" and \"Goodbye\"`|\n",
    "|`begin`|`\tStart a block, usually for exceptions.\t`|`begin end`|\n",
    "|`break`|`\tBreak out of a loop right now.\t`|`while true; break; end`|\n",
    "|`case`|`\tCase style conditional, like an if.\t`|`case X; when Y; else; end`|\n",
    "|`class`|`\tDefine a new class.\t`|`class X; end`|\n",
    "|`def`|`\tDefine a new function.\t`|`def X(); end`|\n",
    "|`defined?`|`\tIs this class/function/etc. defined already?\t`|`defined? Class == \"constant\"`|\n",
    "|`do`|`\tCreate a block that maybe takes a parameter.\t`|<code>(0..5).each do &#124;x&#124; puts x end</code>|\n",
    "|`else`|`\tElse conditional.\t`|`if X; else; end`|\n",
    "|`elsif`|`\tElse if conditional\t`|`if X; elsif Y; else; end`|\n",
    "|`end`|`\tEnds blocks, functions, classes, everything.\t`|`begin end # many others`|\n",
    "|`ensure`|`\tRun this code whether an exception happens or not.\t`|`begin ensure end`|\n",
    "|`for`|`\tFor loop syntax. The .each syntax is preferred.\t`|`for X in Y; end`|\n",
    "|`if`|`\tIf conditional.\t`|`if X; end`|\n",
    "|`in`|`\tIn part of for-loops.\t`|`for X in Y; end`|\n",
    "|`module`|`\tDefine a new module.\t`|`module X; end`|\n",
    "|`next`|`\tSkip to the next element of a .each iterator.\t`|``` (0..5).each {&#124;y&#124; next }``` |\n",
    "|`not`|`\tLogical not. But use ! instead.\t`|`not true == false`|\n",
    "|`or`|`\tLogical or.\t`|`puts \"Hello\" or \"Goodbye\"`|\n",
    "|`redo`|`\tRerun a code block exactly the same.\t`|`(0..5).each {&#124;i&#124; redo if i > 2}`|\n",
    "|`rescue`|`\tRun this code if an exception happens.\t`|`begin rescue X; end`|\n",
    "|`retry`|`\tIn a rescue clause, says to try the block again.\t`|<code>(0..5).each {&#124;i&#124; retry if i > 2}</code>|\n",
    "|`return`|`\tReturns a value from a function. Mostly optional.\t`|`return X`|\n",
    "|`self`|`\tThe current object, class, or module.\t`|`defined? self == \"self\"`|\n",
    "|`super`|`\tThe parent class of this class.\t`|`super`|\n",
    "|`then`|`\tCan be used with if optionally.\t`|`if true then puts \"hi\" end`|\n",
    "|`undef`|`\tRemove a function definition from a class.\t`|`undef X`|\n",
    "|`unless`|`\tInverse of if.\t`|`unless false then puts \"not\" end`|\n",
    "|`until`|`\tInverse of while, execute block as long as false.\t`|`until false; end`|\n",
    "|`when`|`\tPart of case conditionals.\t`|`case X; when Y; else; end`|\n",
    "|`while`|`\tWhile loop.\t`|`while true; end`|\n",
    "|`yield`|`\tPause and transfer control to the code block.\t`|`yield`|"
   ]
  },
  {
   "cell_type": "markdown",
   "metadata": {},
   "source": [
    "### Data Types\n",
    "\n",
    "For data types, write out what makes up each one. For example, with strings write out how you create a string. For numbers write out a few numbers.\n",
    "\n",
    "Type|\tDescription|\tExample\n",
    "---|---|---\n",
    "`true`|`\tTrue boolean value.`|`\ttrue or false == true`\n",
    "`false`|`\tFalse boolean value.`|`\tfalse and true == false`\n",
    "`nil`|`\tRepresents \"nothing\" or \"no value\".`|`\tx = nil`\n",
    "`strings`|`\tStores textual information.`|`\tx = \"hello\"`\n",
    "`numbers`|`\tStores integers.`|`\ti = 100`\n",
    "`floats`|`\tStores decimals.`|`\ti = 10.389`\n",
    "`arrays`|`\tStores a list of things.`|`\tj = [1,2,3,4]`\n",
    "`hashes`|`\tStores a key=value mapping of things.`|`e = {'x' => 1, 'y' => 2}`\n",
    "\n",
    "### String Escape Sequences\n",
    "\n",
    "For string escape sequences, use them in strings to make sure they do what you think they do.\n",
    "\n",
    "Escape |\tDescription\n",
    "--- | ---\n",
    "`\\\\` |\t`Backslash`\n",
    "`\\'` |\t`Single-quote`\n",
    "`\\\"` |\t`Double-quote`\n",
    "`\\a`|\t`Bell`\n",
    "`\\b`|\t`Backspace`\n",
    "`\\f`|\t`Formfeed`\n",
    "`\\n`|\t`Newline`\n",
    "`\\r`|\t`Carriage`\n",
    "`\\t`|\t`Tab`\n",
    "`\\v`|\t`Vertical tab`"
   ]
  },
  {
   "cell_type": "markdown",
   "metadata": {},
   "source": [
    "### Operators\n",
    "\n",
    "Some of these may be unfamiliar to you, but look them up anyway. Find out what they do, and if you still can't figure it out, save it for later.\n",
    "\n",
    "Operator|\tDescription|\tExample\n",
    "---|---|---\n",
    "`+`|`\tAdd\t`|`2 + 4 == 6`\n",
    "`-`|`\tSubtract`|`\t2 - 4 == -2`\n",
    "`*`|`\tMultiply`|`\t2 * 4 == 8`\n",
    "`**`|`\tPower of`|`\t2 ** 4 == 16`\n",
    "`/`|`\tDivide\t`|`2 / 4.0 == 0.5`\n",
    "`%`|`\tModulus\t`|`2 % 4 == 2`\n",
    "`.`|`\tDot access\t`|`\"1\".to_i == 1`\n",
    "`::`|`\tColon access\t`|`Module::Class`\n",
    "`[]`|`\tList brackets`|`\t[1,2,3,4]`\n",
    "`!`|`\tNot`|`\t!true == false`\n",
    "`<`|`\tLess than`|`\t4 < 4 == false`\n",
    "`>`|`\tGreater than`|`\t4 > 4 == false`\n",
    "`>=`|`\tGreater than equal`|`\t4 >= 4 == true`\n",
    "`<=`|`\tLess than equal`|`\t4 <= 4 == true`\n",
    "`<=>`|`\tComparison`|`\t4 <=> 4 == 0`\n",
    "`==`|`\tEqual\t`|`4 == 4 == true`\n",
    "`===`|`\tEquality`|`\t4 === 4 == true`\n",
    "`!=`|`\tNot equal`|`\t4 != 4 == false`\n",
    "`&&`|`\tLogical and (higher precedence)`|`\ttrue && false == false`\n",
    "<code>&#124;&#124;</code>|`\tLogical or (higher precedence)`|<code>true &#124;&#124; false == true</code>\n",
    "`..`|`\tRange inclusive`|`\t(0..3).to_a == [0, 1, 2, 3]`\n",
    "`...`|`\tRange non-inclusive`|`\t(0...3).to_a == [0, 1, 2]`\n",
    "`@`|`\tObject scope`|`\t@var ; @@classvar`\n",
    "`@@`|`\tClass scope`|`\t@var ; @@classvar`\n",
    "`$`|`\tGlobal scope`|`\t$stdin`"
   ]
  },
  {
   "cell_type": "markdown",
   "metadata": {},
   "source": [
    "## Exercise 38: Doing Things to Arrays\n",
    "\n",
    "### When to Use Arrays\n",
    "\n",
    "You use an array whenever you have something that matches the array data structure's useful features:\n",
    "\n",
    "1. If you need to maintain order. Remember, this is listed order, not sorted order. Arrays do not sort for you.\n",
    "2. If you need to access the contents randomly by a number. Remember, this is using cardinal numbers starting at 0.\n",
    "3. If you need to go through the contents linearly (first to last). Remember, that's what for-loops are for."
   ]
  },
  {
   "cell_type": "markdown",
   "metadata": {},
   "source": [
    "## Exercise 39: Hashes"
   ]
  },
  {
   "cell_type": "code",
   "execution_count": 147,
   "metadata": {
    "collapsed": false
   },
   "outputs": [
    {
     "data": {
      "text/plain": [
       "{\"CA\"=>\"San Francisco\", \"MI\"=>\"Detroit\", \"FL\"=>\"Jacksonville\"}"
      ]
     },
     "execution_count": 147,
     "metadata": {},
     "output_type": "execute_result"
    }
   ],
   "source": [
    "# create a mapping of state to abbreviation\n",
    "states = {\n",
    "  'Oregon' => 'OR',\n",
    "  'Florida' => 'FL',\n",
    "  'California' => 'CA',\n",
    "  'New York' => 'NY',\n",
    "  'Michigan' => 'MI'\n",
    "}\n",
    "\n",
    "# create a basic set of states and some cities in them\n",
    "cities = {\n",
    "  'CA' => 'San Francisco',\n",
    "  'MI' => 'Detroit',\n",
    "  'FL' => 'Jacksonville'\n",
    "}"
   ]
  },
  {
   "cell_type": "code",
   "execution_count": 148,
   "metadata": {
    "collapsed": false
   },
   "outputs": [
    {
     "data": {
      "text/plain": [
       "\"Portland\""
      ]
     },
     "execution_count": 148,
     "metadata": {},
     "output_type": "execute_result"
    }
   ],
   "source": [
    "# add some more cities\n",
    "cities['NY'] = 'New York'\n",
    "cities['OR'] = 'Portland'"
   ]
  },
  {
   "cell_type": "code",
   "execution_count": 149,
   "metadata": {
    "collapsed": false
   },
   "outputs": [
    {
     "name": "stdout",
     "output_type": "stream",
     "text": [
      "----------\n",
      "NY State has: New York\n",
      "OR State has: Portland\n",
      "----------\n",
      "Michigan's abbreviation is: MI\n",
      "Florida's abbreviation is: FL\n"
     ]
    }
   ],
   "source": [
    "# puts out some cities\n",
    "puts '-' * 10\n",
    "puts \"NY State has: #{cities['NY']}\"\n",
    "puts \"OR State has: #{cities['OR']}\"\n",
    "\n",
    "# puts some states\n",
    "puts '-' * 10\n",
    "puts \"Michigan's abbreviation is: #{states['Michigan']}\"\n",
    "puts \"Florida's abbreviation is: #{states['Florida']}\""
   ]
  },
  {
   "cell_type": "code",
   "execution_count": 150,
   "metadata": {
    "collapsed": false
   },
   "outputs": [
    {
     "name": "stdout",
     "output_type": "stream",
     "text": [
      "----------\n",
      "Michigan has: Detroit\n",
      "Florida has: Jacksonville\n"
     ]
    }
   ],
   "source": [
    "# do it by using the state then cities dict\n",
    "puts '-' * 10\n",
    "puts \"Michigan has: #{cities[states['Michigan']]}\"\n",
    "puts \"Florida has: #{cities[states['Florida']]}\""
   ]
  },
  {
   "cell_type": "code",
   "execution_count": 151,
   "metadata": {
    "collapsed": false
   },
   "outputs": [
    {
     "name": "stdout",
     "output_type": "stream",
     "text": [
      "----------\n",
      "Oregon is abbreviated OR\n",
      "Florida is abbreviated FL\n",
      "California is abbreviated CA\n",
      "New York is abbreviated NY\n",
      "Michigan is abbreviated MI\n",
      "----------\n",
      "CA has the city San Francisco\n",
      "MI has the city Detroit\n",
      "FL has the city Jacksonville\n",
      "NY has the city New York\n",
      "OR has the city Portland\n"
     ]
    },
    {
     "data": {
      "text/plain": [
       "{\"CA\"=>\"San Francisco\", \"MI\"=>\"Detroit\", \"FL\"=>\"Jacksonville\", \"NY\"=>\"New York\", \"OR\"=>\"Portland\"}"
      ]
     },
     "execution_count": 151,
     "metadata": {},
     "output_type": "execute_result"
    }
   ],
   "source": [
    "# puts every state abbreviation\n",
    "puts '-' * 10\n",
    "states.each do |state, abbrev|\n",
    "  puts \"#{state} is abbreviated #{abbrev}\"\n",
    "end\n",
    "\n",
    "# puts every city in state\n",
    "puts '-' * 10\n",
    "cities.each do |abbrev, city|\n",
    "  puts \"#{abbrev} has the city #{city}\"\n",
    "end"
   ]
  },
  {
   "cell_type": "code",
   "execution_count": 153,
   "metadata": {
    "collapsed": false
   },
   "outputs": [
    {
     "name": "stdout",
     "output_type": "stream",
     "text": [
      "----------\n",
      "Oregon is abbreviated OR and has city Portland\n",
      "Florida is abbreviated FL and has city Jacksonville\n",
      "California is abbreviated CA and has city San Francisco\n",
      "New York is abbreviated NY and has city New York\n",
      "Michigan is abbreviated MI and has city Detroit\n",
      "----------\n"
     ]
    }
   ],
   "source": [
    "# now do both at the same time\n",
    "puts '-' * 10\n",
    "states.each do |state, abbrev|\n",
    "  city = cities[abbrev]\n",
    "  puts \"#{state} is abbreviated #{abbrev} and has city #{city}\"\n",
    "end\n",
    "puts '-' * 10"
   ]
  },
  {
   "cell_type": "code",
   "execution_count": 154,
   "metadata": {
    "collapsed": false
   },
   "outputs": [
    {
     "name": "stdout",
     "output_type": "stream",
     "text": [
      "Sorry, no Texas.\n",
      "The city for the state 'TX' is: Does Not Exist\n"
     ]
    }
   ],
   "source": [
    "# by default ruby says \"nil\" when something isn't in there\n",
    "state = states['Texas']\n",
    "\n",
    "if !state\n",
    "  puts \"Sorry, no Texas.\"\n",
    "end\n",
    "\n",
    "# default values using ||= with the nil result\n",
    "city = cities['TX']\n",
    "\n",
    "city ||= 'Does Not Exist'\n",
    "puts \"The city for the state 'TX' is: #{city}\""
   ]
  },
  {
   "cell_type": "markdown",
   "metadata": {},
   "source": [
    "### What Hashes Can Do\n",
    "\n",
    "Hashes are another example of a data structure, and like arrays they are one of the most commonly used data structures in programming. A hash is used to map or associate things you want to store to keys you need to get them. Again, programmers don't use a term like \"hash\" for something that doesn't work like an actual hash full of words, so let's use that as our real world example.\n",
    "\n",
    "Let's say you want to find out what the word \"Honorificabilitudinitatibus\" means. Today you would simply copy-paste that word into a search engine and then find out the answer, and we could say a search engine is like a really huge super complex version of the Oxford English Dictionary (OED). Before search engines what you would do is this:\n",
    "\n",
    "1. Go to your library and get \"the dictionary\". Let's say it's the OED.\n",
    "2. You know \"honorificabilitudinitatibus\" starts with the letter 'H' so you look on the side of the book for the little tab that has 'H' on it.\n",
    "3. Then you'd skim the pages until you are close to where \"hon\" started.\n",
    "4. Then you'd skim a few more pages until you found \"honorificabilitudinitatibus\" or hit the beginning of the \"hp\" words and realize this word isn't in the OED.\n",
    "5. Once you found the entry, you'd read the definition to figure out what it means.\n",
    "\n",
    "This process is nearly exactly the way a hash works, and you are basically \"mapping\" the word \"honorificabilitudinitatibus\" to its definition. A hash in Ruby is just like a dictionary in the real world like the OED."
   ]
  },
  {
   "cell_type": "markdown",
   "metadata": {},
   "source": [
    "## Exercise 40: Modules, Classes, and Objects\n",
    "\n",
    "### Modules Are Like Hashes\n",
    "This means we have a very common pattern in Ruby:\n",
    "\n",
    "1. Take a key=value style container.\n",
    "2. Get something out of it by the key's name.\n",
    "\n",
    "In the case of the hash, the key is a string and the syntax is `[key]`. In the case of the module, the key is an identifier, and the syntax is `.key`. Other than that they are nearly the same thing.\n",
    "\n",
    "### Classes Are Like Modules\n",
    "You can think about a module as a specialized hash that can store Ruby code so you can access it with the `.` operator. Ruby also has another construct that serves a similar purpose called a class. A class is a way to take a grouping of functions and data and place them inside a container so you can access them with the `.` operator.\n",
    "\n",
    "### Objects are Like Require\n",
    "If a class is like a \"mini-module,\" then there has to be a similar concept to `require` but for classes. That concept is called \"instantiate\", which is just a fancy, obnoxious, overly smart way to say \"create.\" When you instantiate a class what you get is called an object.\n"
   ]
  },
  {
   "cell_type": "markdown",
   "metadata": {},
   "source": [
    "### Phrase Drills\n",
    "\n",
    "Next I have a list of Ruby code snippets on the left, and the English sentences for them:\n",
    "\n",
    "`class X < y`\n",
    "\"Make a class named X that is-a Y.\"\n",
    "\n",
    "`class X: def initialize(J)`\n",
    "\"class X has-a initialize that takes a J parameter.\"\n",
    "\n",
    "`class X: def M(J)`\n",
    "\"class X has-a function named M that takes a J parameter.\"\n",
    "\n",
    "`foo = X.new()`\n",
    "\"Set foo to an instance of class X.\"\n",
    "\n",
    "`foo.M(J)`\n",
    "\"From foo get the M function, and call it with parameter J.\"\n",
    "\n",
    "`foo.K = Q`\n",
    "\"From foo get the K attribute and set it to Q.\""
   ]
  },
  {
   "cell_type": "code",
   "execution_count": 159,
   "metadata": {
    "collapsed": false
   },
   "outputs": [
    {
     "name": "stderr",
     "output_type": "stream",
     "text": [
      "<main>:2: warning: already initialized constant WORD_URL\n",
      "<main>:2: warning: previous definition of WORD_URL was here\n",
      "<main>:3: warning: already initialized constant WORDS\n",
      "<main>:3: warning: previous definition of WORDS was here\n"
     ]
    },
    {
     "data": {
      "text/plain": [
       "[\"The Zen of Ruby\", \"Beautiful is better than ugly.\", \"Explicit is better than implicit.\", \"Simple is better than complex.\", \"Complex is better than complicated.\", \"Flat is better than nested.\", \"Sparse is better than dense.\", \"Readability counts.\", \"Special cases aren't special enough to break the rules.\", \"Although practicality beats purity.\", \"Errors should never pass silently.\", \"Unless explicitly silenced.\", \"In the face of ambiguity, refuse the temptation to guess.\", \"There should be one-- and preferably only one --obvious way to do it.\", \"Although that way may not be obvious at first unless you're Dutch.\", \"Now is better than never.\", \"Although never is often better than *right* now.\", \"If the implementation is hard to explain, it's a bad idea.\", \"If the implementation is easy to explain, it may be a good idea.\", \"Namespaces are one honking great idea -- let's do more of those!\"]"
      ]
     },
     "execution_count": 159,
     "metadata": {},
     "output_type": "execute_result"
    }
   ],
   "source": [
    "# require 'open-uri'\n",
    "# WORD_URL = 'https://learnrubythehardway.org/book/ex1.html'\n",
    "WORD_URL = 'zen_of_ruby.txt'\n",
    "WORDS = []\n",
    "open(WORD_URL) {|f|\n",
    "  f.each_line {|word| WORDS.push(word.chomp)}\n",
    "}\n",
    "WORDS"
   ]
  },
  {
   "cell_type": "code",
   "execution_count": null,
   "metadata": {
    "collapsed": true
   },
   "outputs": [],
   "source": []
  }
 ],
 "metadata": {
  "kernelspec": {
   "display_name": "Ruby 2.3.1",
   "language": "ruby",
   "name": "ruby"
  },
  "language_info": {
   "file_extension": ".rb",
   "mimetype": "application/x-ruby",
   "name": "ruby",
   "version": "2.3.1"
  }
 },
 "nbformat": 4,
 "nbformat_minor": 0
}
